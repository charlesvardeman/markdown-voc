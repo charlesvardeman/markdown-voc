{
 "cells": [
  {
   "cell_type": "markdown",
   "metadata": {},
   "source": [
    "# core\n",
    "\n",
    "> Fill in a module description here"
   ]
  },
  {
   "cell_type": "code",
   "execution_count": null,
   "metadata": {},
   "outputs": [],
   "source": [
    "#| default_exp core"
   ]
  },
  {
   "cell_type": "code",
   "execution_count": null,
   "metadata": {},
   "outputs": [],
   "source": [
    "#| hide\n",
    "from nbdev.showdoc import *"
   ]
  },
  {
   "cell_type": "code",
   "execution_count": null,
   "metadata": {},
   "outputs": [],
   "source": [
    "#| export\n",
    "from markdown_it import MarkdownIt\n",
    "from markdown_it.tree import SyntaxTreeNode\n",
    "from rdflib import Graph, URIRef, Literal"
   ]
  },
  {
   "cell_type": "code",
   "execution_count": null,
   "metadata": {},
   "outputs": [],
   "source": [
    "#| export\n",
    "def extract_prefixes(ast):\n",
    "    \"\"\"Extract prefixes and base URI from a Markdown-ld AST.\"\"\"\n",
    "    prefixes = {}\n",
    "    base_uri = None\n",
    "    \n",
    "    # Look for level-1 heading followed by a code block\n",
    "    for i, node in enumerate(ast.children):\n",
    "        if node.type == 'heading' and node.tag == 'h1':\n",
    "            # Check if next node is a code block\n",
    "            if i+1 < len(ast.children) and ast.children[i+1].type == 'code':\n",
    "                code_block = ast.children[i+1]\n",
    "                # Parse the code block content for prefixes\n",
    "                for line in code_block.content.split('\\n'):\n",
    "                    line = line.strip()\n",
    "                    if line.startswith('@prefix'):\n",
    "                        # Extract prefix and URI\n",
    "                        parts = line.split(' ', 2)\n",
    "                        if len(parts) >= 3:\n",
    "                            prefix = parts[1].rstrip(':')\n",
    "                            uri = parts[2].rstrip(' .')\n",
    "                            if uri.startswith('<') and uri.endswith('>'): \n",
    "                                uri = uri[1:-1]\n",
    "                            prefixes[prefix] = uri\n",
    "                    elif line.startswith('@base'):\n",
    "                        # Extract base URI\n",
    "                        parts = line.split(' ', 1)\n",
    "                        if len(parts) >= 2:\n",
    "                            uri = parts[1].rstrip(' .')\n",
    "                            if uri.startswith('<') and uri.endswith('>'): \n",
    "                                uri = uri[1:-1]\n",
    "                            base_uri = uri\n",
    "    \n",
    "    return prefixes, base_uri"
   ]
  },
  {
   "cell_type": "code",
   "execution_count": null,
   "metadata": {},
   "outputs": [],
   "source": [
    "#| export\n",
    "def extract_triples(ast):\n",
    "    \"\"\"Extract RDF triples from a Markdown-ld AST.\"\"\"\n",
    "    triples = []\n",
    "    current_subject = None\n",
    "    current_predicate = None\n",
    "    \n",
    "    # Helper function to extract text from inline code\n",
    "    def extract_code_value(node):\n",
    "        for child in node.children:\n",
    "            if child.type == 'inline':\n",
    "                for inline_child in child.children:\n",
    "                    if inline_child.type == 'code_inline':\n",
    "                        return inline_child.content\n",
    "        return None\n",
    "    \n",
    "    # Process each node in the AST\n",
    "    for node in ast.children:\n",
    "        # Handle level-2 headings (subjects)\n",
    "        if node.type == 'heading' and node.tag == 'h2':\n",
    "            # The next node should be a paragraph with inline code\n",
    "            if node.next_sibling and node.next_sibling.type == 'paragraph':\n",
    "                current_subject = extract_code_value(node.next_sibling)\n",
    "                current_predicate = None\n",
    "        \n",
    "        # Handle level-3 headings (predicates)\n",
    "        elif node.type == 'heading' and node.tag == 'h3':\n",
    "            if node.next_sibling and node.next_sibling.type == 'paragraph':\n",
    "                current_predicate = extract_code_value(node.next_sibling)\n",
    "        \n",
    "        # Handle bullet lists (objects)\n",
    "        elif node.type == 'bullet_list' and current_subject and current_predicate:\n",
    "            for list_item in node.children:\n",
    "                if list_item.type == 'list_item':\n",
    "                    # Extract object from list item\n",
    "                    obj = None\n",
    "                    for paragraph in list_item.children:\n",
    "                        if paragraph.type == 'paragraph':\n",
    "                            obj = extract_code_value(paragraph)\n",
    "                    \n",
    "                    if obj:\n",
    "                        triples.append((current_subject, current_predicate, obj))\n",
    "    \n",
    "    return triples"
   ]
  },
  {
   "cell_type": "code",
   "execution_count": null,
   "metadata": {},
   "outputs": [],
   "source": [
    "#| export\n",
    "def markdown_ld_to_triples(markdown_text):\n",
    "    \"\"\"Convert Markdown-LD text to RDF triples.\"\"\"\n",
    "    md = MarkdownIt()\n",
    "    tokens = md.parse(markdown_text)\n",
    "    ast = SyntaxTreeNode(tokens)\n",
    "    triples = extract_triples(ast)\n",
    "    prefixes, base_uri = extract_prefixes(ast)\n",
    "    return triples, prefixes, base_uri"
   ]
  },
  {
   "cell_type": "code",
   "execution_count": null,
   "metadata": {},
   "outputs": [],
   "source": [
    "#| export\n",
    "def triples_to_turtle(triples):\n",
    "    \"\"\"Convert triples to grouped Turtle format using RDFLib.\"\"\"\n",
    "    g = triples_to_rdflib_graph(triples)\n",
    "    return g.serialize(format=\"turtle\")"
   ]
  },
  {
   "cell_type": "code",
   "execution_count": null,
   "metadata": {},
   "outputs": [],
   "source": [
    "#| export\n",
    "def markdown_ld_to_turtle(markdown_text):\n",
    "    \"\"\"Convert Markdown-LD text to Turtle format using RDFLib's serializer.\"\"\"\n",
    "    triples, prefixes, base_uri = markdown_ld_to_triples(markdown_text)\n",
    "    g = triples_to_rdflib_graph(triples, prefixes, base_uri)\n",
    "    return g.serialize(format=\"turtle\")"
   ]
  },
  {
   "cell_type": "code",
   "execution_count": null,
   "metadata": {},
   "outputs": [],
   "source": [
    "#| export\n",
    "def triples_to_rdflib_graph(triples, prefixes=None, base_uri=None):\n",
    "    \"\"\"Convert our triples to an RDFLib graph with prefixes.\"\"\"\n",
    "    g = Graph()\n",
    "    \n",
    "    # Set prefixes\n",
    "    if prefixes:\n",
    "        for prefix, uri in prefixes.items():\n",
    "            g.bind(prefix, uri)\n",
    "    else:\n",
    "        # Default prefixes if none provided\n",
    "        g.bind(\"schema\", \"https://schema.org/\")\n",
    "        g.bind(\"rdfs\", \"http://www.w3.org/2000/01/rdf-schema#\")\n",
    "        g.bind(\"xsd\", \"http://www.w3.org/2001/XMLSchema#\")\n",
    "    \n",
    "    # Set base URI if provided\n",
    "    if base_uri:\n",
    "        g.base = base_uri\n",
    "    \n",
    "    # Process triples\n",
    "    for subject, predicate, obj in triples:\n",
    "        # Remove angle brackets if present\n",
    "        if subject.startswith('<') and subject.endswith('>'): subject = subject[1:-1]\n",
    "        if predicate.startswith('<') and predicate.endswith('>'): predicate = predicate[1:-1]\n",
    "        \n",
    "        # Handle literals vs URIs for objects\n",
    "        if obj.startswith('\"'):\n",
    "            # Check for datatyped literals\n",
    "            if '\"^^' in obj:\n",
    "                value_part, datatype_part = obj.split('^^', 1)\n",
    "                value = value_part.strip('\"')\n",
    "                if datatype_part.startswith('<') and datatype_part.endswith('>'): \n",
    "                    datatype_part = datatype_part[1:-1]\n",
    "                obj_val = Literal(value, datatype=URIRef(datatype_part))\n",
    "            else:\n",
    "                obj_val = Literal(obj.strip('\"'))\n",
    "        elif obj.isdigit():\n",
    "            obj_val = Literal(int(obj))\n",
    "        else:\n",
    "            if obj.startswith('<') and obj.endswith('>'): obj = obj[1:-1]\n",
    "            obj_val = URIRef(obj)\n",
    "        \n",
    "        # Add triple to graph\n",
    "        g.add((URIRef(subject), URIRef(predicate), obj_val))\n",
    "    \n",
    "    return g"
   ]
  },
  {
   "cell_type": "code",
   "execution_count": null,
   "metadata": {},
   "outputs": [],
   "source": [
    "#| export\n",
    "def markdown_ld_to_jsonld(markdown_text):\n",
    "    \"\"\"Convert Markdown-LD text to JSON-LD format.\"\"\"\n",
    "    triples = markdown_ld_to_triples(markdown_text)\n",
    "    g = triples_to_rdflib_graph(triples)\n",
    "    return g.serialize(format=\"json-ld\")"
   ]
  },
  {
   "cell_type": "code",
   "execution_count": null,
   "metadata": {},
   "outputs": [],
   "source": [
    "#| export\n",
    "def markdown_ld_convert(markdown_text, output_format='turtle'):\n",
    "    \"\"\"Convert Markdown-LD text to various RDF formats.\"\"\"\n",
    "    triples, prefixes, base_uri = markdown_ld_to_triples(markdown_text)\n",
    "    g = triples_to_rdflib_graph(triples, prefixes, base_uri)\n",
    "    \n",
    "    if output_format.lower() in ['turtle', 'ttl']: return g.serialize(format=\"turtle\")\n",
    "    elif output_format.lower() in ['jsonld', 'json-ld', 'json']: return g.serialize(format=\"json-ld\")\n",
    "    else: return g.serialize(format=output_format)"
   ]
  },
  {
   "cell_type": "code",
   "execution_count": null,
   "metadata": {},
   "outputs": [],
   "source": [
    "#| export\n",
    "def main():\n",
    "    \"\"\"Command-line interface for markdown-ld.\"\"\"\n",
    "    import argparse\n",
    "    parser = argparse.ArgumentParser(description='Convert Markdown-LD to RDF formats.')\n",
    "    parser.add_argument('input', help='Input Markdown-LD file')\n",
    "    parser.add_argument('-o', '--output', help='Output file (default: stdout)')\n",
    "    parser.add_argument('-f', '--format', default='turtle', \n",
    "                        help='Output format (turtle, json-ld, xml, etc.)')\n",
    "    args = parser.parse_args()\n",
    "    \n",
    "    with open(args.input, 'r') as f: markdown_text = f.read()\n",
    "    \n",
    "    result = markdown_ld_convert(markdown_text, args.format)\n",
    "    \n",
    "    if args.output:\n",
    "        with open(args.output, 'w') as f: f.write(result)\n",
    "    else: print(result)"
   ]
  },
  {
   "cell_type": "code",
   "execution_count": null,
   "metadata": {},
   "outputs": [],
   "source": [
    "# Simple Markdown-ld example for testing\n",
    "markdown_ld_example = \"\"\"# Example Entity\n",
    "\n",
    "`<#example-entity>`\n",
    "\n",
    "## Property One\n",
    "\n",
    "`<#property-one>`\n",
    "\n",
    "### Has Value\n",
    "\n",
    "`<#has-value>`\n",
    "\n",
    "- `\"Some literal value\"`\n",
    "- Another value `42`\n",
    "\"\"\""
   ]
  },
  {
   "cell_type": "code",
   "execution_count": null,
   "metadata": {},
   "outputs": [
    {
     "name": "stdout",
     "output_type": "stream",
     "text": [
      "<#property-one> <#has-value> \"Some literal value\" .\n",
      "<#property-one> <#has-value> 42 .\n"
     ]
    }
   ],
   "source": [
    "# Test our parser\n",
    "md = MarkdownIt()\n",
    "tokens = md.parse(markdown_ld_example)\n",
    "ast = SyntaxTreeNode(tokens)\n",
    "triples = extract_triples(ast)\n",
    "for subject, predicate, obj in triples:\n",
    "    print(f\"{subject} {predicate} {obj} .\")"
   ]
  },
  {
   "cell_type": "code",
   "execution_count": null,
   "metadata": {},
   "outputs": [],
   "source": [
    "#| hide\n",
    "import nbdev; nbdev.nbdev_export()"
   ]
  }
 ],
 "metadata": {
  "kernelspec": {
   "display_name": "python3",
   "language": "python",
   "name": "python3"
  }
 },
 "nbformat": 4,
 "nbformat_minor": 4
}
